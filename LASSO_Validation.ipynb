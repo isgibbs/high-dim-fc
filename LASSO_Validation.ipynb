{
 "cells": [
  {
   "cell_type": "code",
   "execution_count": 2,
   "metadata": {},
   "outputs": [],
   "source": [
    "import numpy as np\n",
    "import pandas as pd\n",
    "import seaborn as sns\n",
    "import math\n",
    "import matplotlib.pyplot as plt\n",
    "from sklearn.linear_model import Lasso\n",
    "from scipy.stats import norm\n",
    "from scipy.interpolate import make_interp_spline\n",
    "\n",
    "\n",
    "from tqdm import tqdm"
   ]
  },
  {
   "cell_type": "code",
   "execution_count": 3,
   "metadata": {},
   "outputs": [],
   "source": [
    "### Functions for solving the LASSO system of equations following Bean (2012)\n",
    "\n",
    "##### Function G defined in Bean (2012)\n",
    "def G(x,numSamps = 1000000):\n",
    "    Z = np.random.normal(size=numSamps)\n",
    "    diff = np.abs(Z) - x\n",
    "    diff[diff < 0] = 0\n",
    "    \n",
    "    return np.mean(diff**2)\n",
    "    \n",
    "#### Main equation that we need to find a root of\n",
    "def mainEQ(sigma_sq_eps,m2,m4,tau,c,v,beta_norm_sq,eta,K,phi_inv_v):\n",
    "    return (m4*beta_norm_sq - tau**2/(phi_inv_v**2)\n",
    "            + (tau**2)*(eta**2)/(gamma*K**2)+sigma_sq_eps*m2)\n",
    "\n",
    "#### Definition of a number of intermediate quantities used in the main equation\n",
    "def setIntermediates(c,gamma,lambs,eta,tau,sigma_sq_eps):\n",
    "    v = 1-np.mean(1/(1+c*lambs**2))\n",
    "    K = tau*c/v\n",
    "    if 1-v/(2*gamma) >= 0:\n",
    "        phi_inv_v = norm.ppf(1-v/(2*gamma))\n",
    "        s = K/phi_inv_v\n",
    "        beta_norm_sq = gamma*(s**2)*G(K/s) - 2*(eta**2)*v/gamma + eta**2\n",
    "        m2 = np.mean(lambs**2/((1+c*lambs**2)**2))\n",
    "        m4 = np.mean(lambs**4/((1+c*lambs**2)**2))\n",
    "        \n",
    "        return (v,K,phi_inv_v,s,beta_norm_sq,m2,m4)\n",
    "    else:\n",
    "        return [-1]\n",
    "\n",
    "    "
   ]
  },
  {
   "cell_type": "code",
   "execution_count": 4,
   "metadata": {},
   "outputs": [],
   "source": [
    "### Solve LASSO system of equations at the given parameters\n",
    "def getLassoPredictions(gamma, eta, sigma_sq_eps, tau, numSamps = 1000000):\n",
    "    lambs = np.random.uniform(size=numSamps)\n",
    "    cs = np.linspace(0.01,2,1000)\n",
    "    vals = np.array([0.0]*len(cs))\n",
    "    count = 0\n",
    "    for c in cs: ### brute force search over the parameter c\n",
    "        intermediates = setIntermediates(c,gamma,lambs,eta,tau,sigma_sq_eps)\n",
    "        if len(intermediates) > 1:\n",
    "            (v,K,phi_inv_v,s,beta_norm_sq,m2,m4) = intermediates\n",
    "            vals[count] = mainEQ(sigma_sq_eps,m2,m4,tau,c,v,beta_norm_sq,eta,K,phi_inv_v) \n",
    "        else:\n",
    "            vals[count] = vals[count-1]\n",
    "        count += 1\n",
    "\n",
    "    ### Look for roots of the equation\n",
    "    candidates = [] \n",
    "    for i in range(len(cs) - 1):\n",
    "        if np.sign(vals[i])*np.sign(vals[i+1]) < 0:\n",
    "            candidates = candidates + [cs[i]]\n",
    "\n",
    "    print(\"------------------------Candidates----------------------------\")\n",
    "    print(candidates)\n",
    "\n",
    "    ### Some roots cannot be a solution as they violate sign constraints for the parameters\n",
    "    for c in candidates:\n",
    "        (v,K,phi_inv_v,s,beta_norm_sq,m2,m4) = setIntermediates(c,gamma,lambs,eta,tau,sigma_sq_eps)\n",
    "        if s > 0 and beta_norm_sq > 0:\n",
    "            print(\"-------------------------True Solution-------------------\")\n",
    "            sol = (c, beta_norm_sq)\n",
    "\n",
    "        print(c, s, beta_norm_sq, mainEQ(sigma_sq_eps,m2,m4,tau,c,v,beta_norm_sq,eta,K,phi_inv_v))\n",
    "        \n",
    "    return sol\n",
    "\n",
    "def generateData(nTrain, nTest, d, eta, sigma_sq_eps, wZero=False):\n",
    "    XTrain = np.diag(np.random.uniform(0,1,nTrain))@np.random.normal(size=(nTrain,d))\n",
    "    XTest = np.diag(np.random.uniform(0,1,nTest))@np.random.normal(size=(nTest,d))\n",
    "    \n",
    "    if wZero:\n",
    "        w = np.zeros(d)\n",
    "    else:\n",
    "        w = eta*np.random.normal(size=d)/(d**(1/2))\n",
    "    \n",
    "    YTrain = XTrain@w + np.sqrt(sigma_sq_eps)*np.random.normal(size=nTrain)\n",
    "    YTest = XTest@w +  np.sqrt(sigma_sq_eps)*np.random.normal(size=nTest)\n",
    "    \n",
    "\n",
    "    return XTrain, YTrain, XTest, YTest\n",
    "\n",
    "### Evaluate the empirical training-conditional coverage of the full conformal LASSO and it's uncorrected variant\n",
    "### over one draw of the training set\n",
    "def oneLassoExperiment(nTrain, nTest, d, eta, sigma_sq_eps, tau, alpha):\n",
    "    XTrain, YTrain, XTest, YTest = generateData(nTrain, nTest, d, eta, sigma_sq_eps)\n",
    "    \n",
    "    ### run uncorrected method\n",
    "    mod = Lasso(alpha=tau/np.sqrt(nTrain), fit_intercept=False)\n",
    "    mod.fit(XTrain,YTrain)\n",
    "    trainResid = np.abs(YTrain - mod.predict(XTrain))\n",
    "    q = np.quantile(trainResid, 1-alpha)\n",
    "    uncorrCov = np.mean(np.abs(YTest - mod.predict(XTest)) <= q)\n",
    "    \n",
    "    ### run full conformal\n",
    "    corrCov = 0\n",
    "    for i in range(nTest):\n",
    "        XFull = np.row_stack((XTrain,XTest[i,:]))\n",
    "        YFull = np.append(YTrain,YTest[i])\n",
    "        \n",
    "        \n",
    "        mod = Lasso(alpha=tau/np.sqrt(nTrain), fit_intercept=False)\n",
    "        mod.fit(XFull,YFull)\n",
    "        resid = np.abs(YFull - mod.predict(XFull))\n",
    "        q = np.quantile(resid, 1-alpha)\n",
    "        corrCov = corrCov + (resid[-1] <= q)/nTest\n",
    "        \n",
    "    return(uncorrCov, corrCov)\n",
    "\n",
    "### Given a solution to the LASSO system evaluate the true coverage of the uncorrected method\n",
    "def estimateTrueCoverage(c, Ninf, sigma_sq_eps, alpha, numSamps = 1000000):\n",
    "    Z = np.random.normal(size=numSamps)\n",
    "    eps = np.sqrt(sigma_sq_eps)*np.random.normal(size=numSamps)\n",
    "    lambs = np.random.uniform(0,1,numSamps)\n",
    "    \n",
    "    resids = np.abs(eps + lambs*Ninf*Z)\n",
    "    \n",
    "    return np.mean(resids <= np.quantile(resids/(1+c*lambs**2),1-alpha))\n",
    "\n",
    "### Evaluate the l2 norm error of the estimated regression coefficients from the LASSO\n",
    "def simulateNormError(n,d,sigma_sq_eps,tau,eta):\n",
    "    X = np.random.normal(size=(n,d))\n",
    "    lambs = np.random.uniform(size = n)\n",
    "    X = np.diag(lambs)@X\n",
    "    betastar = (eta/np.sqrt(d))*np.random.normal(size=d)\n",
    "    eps = np.sqrt(sigma_sq_eps)*np.random.normal(size = n)\n",
    "    Y = X@betastar + eps\n",
    "    mod = Lasso(alpha=tau/np.sqrt(n), fit_intercept = False)\n",
    "    mod.fit(X,Y)\n",
    "    \n",
    "    return sum((mod.coef_-betastar)**2)\n"
   ]
  },
  {
   "cell_type": "code",
   "execution_count": 8,
   "metadata": {},
   "outputs": [
    {
     "name": "stdout",
     "output_type": "stream",
     "text": [
      "------------------------Candidates----------------------------\n",
      "[0.2829029029029029, 0.4522222222222222]\n",
      "-------------------------True Solution-------------------\n",
      "0.2829029029029029 3.6174886586149344 0.25687346584678783 0.02994539979675523\n",
      "0.4522222222222222 -3.81224329265451 0.7214690892732771 -0.021281830710375232\n",
      "----------Check------------\n",
      "0.28312453044306474 0.25687346584678783\n"
     ]
    },
    {
     "name": "stderr",
     "output_type": "stream",
     "text": [
      "100%|█████████████████████████████████████████| 10000/10000 [02:26<00:00, 68.31it/s]\n"
     ]
    },
    {
     "name": "stdout",
     "output_type": "stream",
     "text": [
      "------------------------Candidates----------------------------\n",
      "[0.21716716716716716, 0.5438538538538539]\n",
      "-------------------------True Solution-------------------\n",
      "0.21716716716716716 3.6357727996785467 0.30924775739474764 0.028349268739121247\n",
      "0.5438538538538539 -3.938060238643084 1.402620330186533 -0.010686345549643345\n",
      "----------Check------------\n",
      "0.3617818037092242 0.30924775739474764\n"
     ]
    },
    {
     "name": "stderr",
     "output_type": "stream",
     "text": [
      "100%|█████████████████████████████████████████| 10000/10000 [02:32<00:00, 65.49it/s]\n"
     ]
    },
    {
     "name": "stdout",
     "output_type": "stream",
     "text": [
      "------------------------Candidates----------------------------\n",
      "[0.12354354354354354, 0.6852852852852852]\n",
      "-------------------------True Solution-------------------\n",
      "0.12354354354354354 3.6972555399658917 0.505573547545314 0.021687524533335667\n",
      "0.6852852852852852 -4.508976279505373 4.474665419098386 -0.002651224820205106\n",
      "----------Check------------\n",
      "0.3932090369054639 0.505573547545314\n"
     ]
    },
    {
     "name": "stderr",
     "output_type": "stream",
     "text": [
      "100%|█████████████████████████████████████████| 10000/10000 [02:29<00:00, 66.81it/s]\n"
     ]
    },
    {
     "name": "stdout",
     "output_type": "stream",
     "text": [
      "------------------------Candidates----------------------------\n",
      "[0.5896696696696696, 1.3346746746746745]\n",
      "-------------------------True Solution-------------------\n",
      "0.5896696696696696 2.9704649855551044 0.5256470585356645 0.004846622288360025\n",
      "1.3346746746746745 -3.4848897255189795 2.624993270600036 -0.00036857015811567195\n",
      "----------Check------------\n",
      "0.48050052626091666 0.5256470585356645\n"
     ]
    },
    {
     "name": "stderr",
     "output_type": "stream",
     "text": [
      "100%|█████████████████████████████████████████| 10000/10000 [03:40<00:00, 45.25it/s]\n"
     ]
    },
    {
     "name": "stdout",
     "output_type": "stream",
     "text": [
      "------------------------Candidates----------------------------\n",
      "[0.39445445445445443, 1.6932332332332332]\n",
      "-------------------------True Solution-------------------\n",
      "0.39445445445445443 2.9726535204072113 0.5165736675892333 0.0035499245558951176\n",
      "1.6932332332332332 -4.406745269735915 7.558222835906113 -0.0005361884506670661\n",
      "----------Check------------\n",
      "0.5339841136064365 0.5165736675892333\n"
     ]
    },
    {
     "name": "stderr",
     "output_type": "stream",
     "text": [
      "100%|█████████████████████████████████████████| 10000/10000 [02:56<00:00, 56.80it/s]\n"
     ]
    },
    {
     "name": "stdout",
     "output_type": "stream",
     "text": [
      "------------------------Candidates----------------------------\n",
      "[0.1813113113113113, 1.966136136136136]\n",
      "-------------------------True Solution-------------------\n",
      "0.1813113113113113 3.0312616297325112 0.677859975112216 -8.795591935606417e-05\n",
      "1.966136136136136 -7.18385311331201 29.651322871342888 -0.0013909247189949486\n",
      "----------Check------------\n",
      "0.7504155595655047 0.677859975112216\n"
     ]
    },
    {
     "name": "stderr",
     "output_type": "stream",
     "text": [
      "100%|█████████████████████████████████████████| 10000/10000 [03:10<00:00, 52.59it/s]\n"
     ]
    },
    {
     "name": "stdout",
     "output_type": "stream",
     "text": [
      "------------------------Candidates----------------------------\n",
      "[0.9283083083083082]\n",
      "-------------------------True Solution-------------------\n",
      "0.9283083083083082 2.761070589597453 0.7646319589569759 -3.247194982705648e-05\n",
      "----------Check------------\n",
      "0.7985328453350303 0.7646319589569759\n"
     ]
    },
    {
     "name": "stderr",
     "output_type": "stream",
     "text": [
      "100%|█████████████████████████████████████████| 10000/10000 [04:37<00:00, 35.99it/s]\n"
     ]
    },
    {
     "name": "stdout",
     "output_type": "stream",
     "text": [
      "------------------------Candidates----------------------------\n",
      "[0.5558058058058057]\n",
      "-------------------------True Solution-------------------\n",
      "0.5558058058058057 2.7276792387536624 0.665593703503782 0.0015167221642098383\n",
      "----------Check------------\n",
      "0.5901820096398853 0.665593703503782\n"
     ]
    },
    {
     "name": "stderr",
     "output_type": "stream",
     "text": [
      "100%|█████████████████████████████████████████| 10000/10000 [05:02<00:00, 33.11it/s]\n"
     ]
    },
    {
     "name": "stdout",
     "output_type": "stream",
     "text": [
      "------------------------Candidates----------------------------\n",
      "[0.22314314314314312]\n",
      "-------------------------True Solution-------------------\n",
      "0.22314314314314312 2.7612561677875576 0.76358838727362 0.0027030768218688217\n",
      "----------Check------------\n",
      "0.7237825153192063 0.76358838727362\n"
     ]
    },
    {
     "name": "stderr",
     "output_type": "stream",
     "text": [
      "100%|███████████████████████████████| 10000/10000 [04:44<00:00, 35.14it/s]\n"
     ]
    },
    {
     "name": "stdout",
     "output_type": "stream",
     "text": [
      "------------------------Candidates----------------------------\n",
      "[1.2908508508508507]\n",
      "-------------------------True Solution-------------------\n",
      "1.2908508508508507 2.6660929797781345 0.9774133416302564 0.0007505997176394108\n",
      "----------Check------------\n",
      "0.8992761109154642 0.9774133416302564\n"
     ]
    },
    {
     "name": "stderr",
     "output_type": "stream",
     "text": [
      "100%|███████████████████████████████| 10000/10000 [05:50<00:00, 28.52it/s]\n"
     ]
    },
    {
     "name": "stdout",
     "output_type": "stream",
     "text": [
      "------------------------Candidates----------------------------\n",
      "[0.7071971971971972]\n",
      "-------------------------True Solution-------------------\n",
      "0.7071971971971972 2.6092160870944823 0.7812444136086237 0.00041546895260749506\n",
      "----------Check------------\n",
      "0.755411181066281 0.7812444136086237\n"
     ]
    },
    {
     "name": "stderr",
     "output_type": "stream",
     "text": [
      "100%|███████████████████████████████| 10000/10000 [05:31<00:00, 30.18it/s]\n"
     ]
    },
    {
     "name": "stdout",
     "output_type": "stream",
     "text": [
      "------------------------Candidates----------------------------\n",
      "[0.258998998998999]\n",
      "-------------------------True Solution-------------------\n",
      "0.258998998998999 2.622051121677427 0.8233958049249459 0.004128001535547016\n",
      "----------Check------------\n",
      "0.8196950844427684 0.8233958049249459\n"
     ]
    },
    {
     "name": "stderr",
     "output_type": "stream",
     "text": [
      "100%|███████████████████████████████| 10000/10000 [05:08<00:00, 32.40it/s]\n"
     ]
    },
    {
     "name": "stdout",
     "output_type": "stream",
     "text": [
      "------------------------Candidates----------------------------\n",
      "[1.6733133133133131]\n",
      "-------------------------True Solution-------------------\n",
      "1.6733133133133131 2.628768631772991 1.1612252271618462 0.0003919432180733984\n",
      "----------Check------------\n",
      "1.0915124478704135 1.1612252271618462\n"
     ]
    },
    {
     "name": "stderr",
     "output_type": "stream",
     "text": [
      "100%|███████████████████████████████| 10000/10000 [06:17<00:00, 26.47it/s]\n"
     ]
    },
    {
     "name": "stdout",
     "output_type": "stream",
     "text": [
      "------------------------Candidates----------------------------\n",
      "[0.8486286286286285]\n",
      "-------------------------True Solution-------------------\n",
      "0.8486286286286285 2.538503333547393 0.876275875612291 0.0009694616766624253\n",
      "----------Check------------\n",
      "0.9263734304372668 0.876275875612291\n"
     ]
    },
    {
     "name": "stderr",
     "output_type": "stream",
     "text": [
      "100%|███████████████████████████████| 10000/10000 [05:43<00:00, 29.12it/s]\n"
     ]
    },
    {
     "name": "stdout",
     "output_type": "stream",
     "text": [
      "------------------------Candidates----------------------------\n",
      "[0.29286286286286284]\n",
      "-------------------------True Solution-------------------\n",
      "0.29286286286286284 2.5384898172604022 0.8623738183172185 0.0026333970018279085\n",
      "----------Check------------\n",
      "0.8494422271187259 0.8623738183172185\n"
     ]
    },
    {
     "name": "stderr",
     "output_type": "stream",
     "text": [
      "100%|███████████████████████████████| 10000/10000 [05:56<00:00, 28.02it/s]\n"
     ]
    }
   ],
   "source": [
    "### Empirically evaluate the training-conditional coverage of the full conformal LASSO and the uncorrected method \n",
    "### and compare this to the values predicted by the theory over various settings of the regularization and \n",
    "### dimension to sample size ratio. \n",
    "\n",
    "eta = 1\n",
    "sigma_sq_eps = 1\n",
    "taus = [0.25,0.5,1]\n",
    "\n",
    "nTrials = 10000\n",
    "nTest = 1\n",
    "nTrain = 800\n",
    "gammas = [0.1,0.2,0.3,0.4,0.5]\n",
    "alpha = 0.1\n",
    "\n",
    "nverify = 1000\n",
    "numEquationSamps = 1000000\n",
    "\n",
    "res = pd.DataFrame()\n",
    "for gamma in gammas:\n",
    "    for tau in taus:\n",
    "        d = int(gamma*nTrain)\n",
    "        dverify = int(gamma*nverify)\n",
    "        ### Solve asymptotic system of equations\n",
    "        sol = getLassoPredictions(gamma, eta, sigma_sq_eps, tau, numSamps = numEquationSamps)\n",
    "        ### Compute resulting estimate of the coverage of the uncorrected method\n",
    "        predCov = estimateTrueCoverage(sol[0], np.sqrt(sol[1]), sigma_sq_eps, alpha, numSamps = numEquationSamps)\n",
    "\n",
    "        ### Compare l2 error predicted by the theory to an empirical draw\n",
    "        simulatedNormError = simulateNormError(nverify,dverify,sigma_sq_eps,tau,eta)        \n",
    "        print('----------Check------------')\n",
    "        print(simulatedNormError, sol[1])\n",
    "\n",
    "        ### Empirically evaluate the coverage\n",
    "        for i in tqdm(range(nTrials)):\n",
    "            (uncorrCov, corrCov) = oneLassoExperiment(nTrain, nTest, d, eta, sigma_sq_eps, tau, alpha)\n",
    "            newRes = pd.DataFrame({\n",
    "                'n' : [nTrain, nTrain],\n",
    "                'gamma' : [gamma,gamma],\n",
    "                'Dimension' : [d, d],\n",
    "                'Method' : ['Uncorrected', 'Full Conformal'],\n",
    "                'Coverage' : [uncorrCov, corrCov],\n",
    "                'Predicted Coverage' : [predCov, 1-alpha],\n",
    "                'tau' : [tau, tau]\n",
    "            })\n",
    "            res = pd.concat([res,newRes])\n",
    "\n"
   ]
  },
  {
   "cell_type": "code",
   "execution_count": 10,
   "metadata": {},
   "outputs": [
    {
     "name": "stderr",
     "output_type": "stream",
     "text": [
      "100%|███████████████████████████████████| 100/100 [02:53<00:00,  1.73s/it]\n",
      "100%|███████████████████████████████████| 100/100 [04:13<00:00,  2.54s/it]\n",
      "100%|███████████████████████████████████| 100/100 [05:33<00:00,  3.34s/it]\n",
      "100%|███████████████████████████████████| 100/100 [11:13<00:00,  6.73s/it]\n"
     ]
    }
   ],
   "source": [
    "### Empirically evaluate the distribution of the training-conditional coverage as the sample size increases\n",
    "\n",
    "nTest = 2000\n",
    "nTrains = [100, 200, 400, 800]\n",
    "nTrials = 100\n",
    "alpha = 0.1\n",
    "gamma = 0.25\n",
    "tau = 0.5\n",
    "\n",
    "resCoverageConvergence = pd.DataFrame()\n",
    "for nTrain in nTrains:\n",
    "    d = math.floor(gamma*nTrain)\n",
    "    for i in tqdm(range(nTrials)):\n",
    "        uncorrCov, corrCov = oneLassoExperiment(nTrain, nTest, d, eta, sigma_sq_eps, tau, alpha)\n",
    "        newRes = pd.DataFrame({\n",
    "            'Number of Training Points' : [nTrain, nTrain],\n",
    "            'Dimension' : [d, d],\n",
    "            'Method' : ['Uncorrected', 'Full Conformal'],\n",
    "            'Coverage' : [uncorrCov, corrCov]\n",
    "        })\n",
    "        resCoverageConvergence = pd.concat([resCoverageConvergence,newRes])\n"
   ]
  },
  {
   "cell_type": "code",
   "execution_count": 14,
   "metadata": {},
   "outputs": [
    {
     "name": "stderr",
     "output_type": "stream",
     "text": [
      "/var/folders/03/1mcjgjk12rv51t4kkk97lq5r0000gn/T/ipykernel_36781/1756588984.py:8: SettingWithCopyWarning: \n",
      "A value is trying to be set on a copy of a slice from a DataFrame.\n",
      "Try using .loc[row_indexer,col_indexer] = value instead\n",
      "\n",
      "See the caveats in the documentation: https://pandas.pydata.org/pandas-docs/stable/user_guide/indexing.html#returning-a-view-versus-a-copy\n",
      "  resSub['tau'] = (2*resSub['tau']).astype('str')\n"
     ]
    },
    {
     "data": {
      "image/png": "[encoded data removed]",
      "text/plain": [
       "<Figure size 1728x525.6 with 2 Axes>"
      ]
     },
     "metadata": {},
     "output_type": "display_data"
    }
   ],
   "source": [
    "sns.set(rc={'figure.figsize':(24,7.3)})\n",
    "sns.set(font_scale=2)\n",
    "sns.set_style(style='white')\n",
    "fig = plt.figure()\n",
    "\n",
    "res['Miscoverage'] = 1 - res['Coverage']\n",
    "resSub = res[res['Method'] == 'Uncorrected']\n",
    "resSub['tau'] = (2*resSub['tau']).astype('str') ### Multiply by 2 to make this definition of tau match the one in the paper\n",
    "gammas = np.array(gammas)\n",
    "\n",
    "cmap = {}\n",
    "count = 0\n",
    "for tau in resSub['tau'].unique():\n",
    "    cmap[tau] = sns.color_palette(\"muted\")[:][2+count]\n",
    "    count += 1\n",
    "\n",
    "### Plot coverage predictions vs. empirically realized values\n",
    "ax1 = fig.add_subplot(1,2,1)\n",
    "\n",
    "##### Plot empirically realized values\n",
    "f1 = sns.lineplot(\n",
    "    data=resSub,\n",
    "    x='gamma',\n",
    "    y='Miscoverage',\n",
    "    hue='tau',\n",
    "    marker='o',\n",
    "    linestyle='',\n",
    "    err_style='bars',\n",
    "    errorbar=('ci', 95),\n",
    "    markersize=10,\n",
    "    palette = cmap,\n",
    "    ax = ax1,\n",
    "    err_kws={\"capsize\": 5, \"elinewidth\": 3, \"capthick\": 3}\n",
    ")\n",
    "\n",
    "##### Plot coverage predictions\n",
    "count = 0\n",
    "for tau in resSub['tau'].unique():\n",
    "    g_smooth = np.linspace(gammas.min(), gammas.max(), 300)\n",
    "    preds = [np.mean(resSub['Predicted Coverage'][(resSub['tau'] == tau) & (resSub['gamma'] == gamma)]) for gamma in gammas]\n",
    "    spline = make_interp_spline(gammas, preds, k=3)  \n",
    "    y_smooth = spline(g_smooth)\n",
    "    f1.plot(g_smooth,1-y_smooth,color=sns.color_palette(\"muted\")[:][2+count],linewidth=3, linestyle='dashed')\n",
    "    count += 1\n",
    "\n",
    "\n",
    "\n",
    "plt.xlabel('$\\\\gamma$')\n",
    "legend = plt.legend(loc='upper left', title = '$\\\\tau$')\n",
    "legend.get_lines()[0].set_linewidth(3)\n",
    "legend.get_lines()[1].set_linewidth(3)\n",
    "legend.get_lines()[2].set_linewidth(3)\n",
    "\n",
    "### Plot empirical coverage distribution as sample size increases\n",
    "\n",
    "resCoverageConvergence['Miscoverage'] = 1-resCoverageConvergence['Coverage']\n",
    "\n",
    "ax2 = fig.add_subplot(1,2,2)\n",
    "f2 = sns.boxplot(resCoverageConvergence,x='Number of Training Points',y='Miscoverage',hue='Method')\n",
    "f2.axhline(alpha, color='red')\n",
    "#plt.legend(title='$\\\\tau=1, \\\\gamma=0.25$')\n",
    "plt.legend(loc='upper right')\n",
    "\n",
    "\n",
    "plt.savefig('figures/LASSO_Validation.pdf')"
   ]
  }
 ],
 "metadata": {
  "kernelspec": {
   "display_name": "Python 3 (ipykernel)",
   "language": "python",
   "name": "python3"
  },
  "language_info": {
   "codemirror_mode": {
    "name": "ipython",
    "version": 3
   },
   "file_extension": ".py",
   "mimetype": "text/x-python",
   "name": "python",
   "nbconvert_exporter": "python",
   "pygments_lexer": "ipython3",
   "version": "3.9.5"
  }
 },
 "nbformat": 4,
 "nbformat_minor": 4
}
